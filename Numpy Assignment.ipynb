{
 "cells": [
  {
   "cell_type": "code",
   "execution_count": 1,
   "id": "30c7916d-e9a9-4187-b461-870e5a1184ed",
   "metadata": {},
   "outputs": [
    {
     "name": "stdout",
     "output_type": "stream",
     "text": [
      "Array: [0 1 2 3 4 5]\n",
      "Data type: int64\n"
     ]
    }
   ],
   "source": [
    "# 1. Create a NumPy array 'arr' of integers from 0 to 5 and print its data type.\n",
    "\n",
    "import numpy as np\n",
    "arr = np.arange(6)\n",
    "print(\"Array:\", arr)\n",
    "print(\"Data type:\", arr.dtype)"
   ]
  },
  {
   "cell_type": "code",
   "execution_count": 2,
   "id": "fcee71cb-f315-47e3-b731-2041a432a023",
   "metadata": {},
   "outputs": [
    {
     "data": {
      "text/plain": [
       "dtype('float64')"
      ]
     },
     "execution_count": 2,
     "metadata": {},
     "output_type": "execute_result"
    }
   ],
   "source": [
    "# 2. Given a NumPy array 'arr', check if its data type is float64.\n",
    "\n",
    "arr = np.array([1.5, 2.6, 3.7])\n",
    "arr.dtype\n"
   ]
  },
  {
   "cell_type": "code",
   "execution_count": 3,
   "id": "756fef32-c471-47b0-b7be-6081aff9859f",
   "metadata": {},
   "outputs": [
    {
     "name": "stdout",
     "output_type": "stream",
     "text": [
      "Array: [1.+2.j 3.+4.j 5.+6.j]\n",
      "Data type: complex128\n"
     ]
    }
   ],
   "source": [
    "# 3. Create a NumPy array 'arr' with a data type of complex128 containing three complex numbers.\n",
    "\n",
    "arr = np.array([1+2j, 3+4j, 5+6j], dtype = np.complex128)\n",
    "print(\"Array:\", arr)\n",
    "print(\"Data type:\", arr.dtype)"
   ]
  },
  {
   "cell_type": "code",
   "execution_count": 4,
   "id": "defe7821-a79e-4850-8512-1f6d514525cb",
   "metadata": {},
   "outputs": [
    {
     "name": "stdout",
     "output_type": "stream",
     "text": [
      "Converted Array: [1. 2. 3. 4. 5.]\n",
      "Data type: float32\n"
     ]
    }
   ],
   "source": [
    "# 4. Convert an existing NumPy array 'arr' of integers to float32 data type.\n",
    "\n",
    "arr = np.array([1, 2, 3, 4, 5])\n",
    "arr_float = arr.astype(np.float32)\n",
    "\n",
    "print(\"Converted Array:\", arr_float)\n",
    "print(\"Data type:\", arr_float.dtype)"
   ]
  },
  {
   "cell_type": "code",
   "execution_count": 5,
   "id": "d8e0ce6b-3130-4d24-8819-b68feeaf1439",
   "metadata": {},
   "outputs": [
    {
     "name": "stdout",
     "output_type": "stream",
     "text": [
      "[1.1234568 2.9876542 3.1415927]\n",
      "float32\n"
     ]
    }
   ],
   "source": [
    "# 5. Given a NumPy array 'arr' with float64 data type, convert it to float32 to reduce decimal precision.\n",
    "\n",
    "arr = np.array([1.123456789, 2.987654321, 3.141592653], dtype = np.float64)\n",
    "\n",
    "arr_float32 = arr.astype(np.float32)\n",
    "\n",
    "print(arr_float32)\n",
    "print(arr_float32.dtype)"
   ]
  },
  {
   "cell_type": "code",
   "execution_count": 6,
   "id": "b4043054-679c-4852-9522-05df221847fb",
   "metadata": {},
   "outputs": [
    {
     "name": "stdout",
     "output_type": "stream",
     "text": [
      "Shape: (2, 3)\n",
      "Size: 6\n",
      "Data type: int64\n"
     ]
    }
   ],
   "source": [
    "# 6. Write a function array_attributes that takes a NumPy array as input and returns its shape, size, and data type.\n",
    "\n",
    "def array_attributes(arr):\n",
    "   \n",
    "    if not isinstance(arr, np.ndarray):\n",
    "        raise ValueError(\"Input must be a NumPy array\")\n",
    "    \n",
    "    shape = arr.shape\n",
    "    size = arr.size\n",
    "    dtype = arr.dtype\n",
    "    \n",
    "    return shape, size, dtype\n",
    "\n",
    "arr = np.array([[1, 2, 3], [4, 5, 6]])\n",
    "attributes = array_attributes(arr)\n",
    "\n",
    "print(\"Shape:\", attributes[0])\n",
    "print(\"Size:\", attributes[1])\n",
    "print(\"Data type:\", attributes[2])"
   ]
  },
  {
   "cell_type": "code",
   "execution_count": 7,
   "id": "8e9e1a5c-8900-4c00-93bb-d7c74e271b08",
   "metadata": {},
   "outputs": [
    {
     "name": "stdout",
     "output_type": "stream",
     "text": [
      "Dimensionality: 2\n"
     ]
    }
   ],
   "source": [
    "# 7. Create a function array_dimension that takes a NumPy array as input and returns its dimensionality.\n",
    "\n",
    "def array_dimension(arr):\n",
    "\n",
    "    if not isinstance(arr, np.ndarray):\n",
    "        raise ValueError(\"Input must be a NumPy array\")\n",
    "\n",
    "    return arr.ndim\n",
    "\n",
    "arr = np.array([[1, 2, 3], [4, 5, 6]])\n",
    "dimension = array_dimension(arr)\n",
    "print(\"Dimensionality:\", dimension)"
   ]
  },
  {
   "cell_type": "code",
   "execution_count": 8,
   "id": "40334aa4-7296-4773-8479-3f98fdabda49",
   "metadata": {},
   "outputs": [
    {
     "name": "stdout",
     "output_type": "stream",
     "text": [
      "Item size (in bytes): 4\n",
      "Total size (in bytes): 24\n"
     ]
    }
   ],
   "source": [
    "# 8. Design a function item_size_info that takes a NumPy array as input and returns the item size and the total size in bytes.\n",
    "\n",
    "def item_size_info(arr):\n",
    "\n",
    "    if not isinstance(arr, np.ndarray):\n",
    "        raise ValueError(\"Input must be a NumPy array\")\n",
    "\n",
    "    item_size = arr.itemsize\n",
    "    total_size = arr.nbytes\n",
    "\n",
    "    return item_size, total_size\n",
    "\n",
    "arr = np.array([[1, 2, 3], [4, 5, 6]], dtype=np.int32)\n",
    "item_size, total_size = item_size_info(arr)\n",
    "print(\"Item size (in bytes):\", item_size)\n",
    "print(\"Total size (in bytes):\", total_size)"
   ]
  },
  {
   "cell_type": "code",
   "execution_count": 9,
   "id": "fe20c032-3385-4614-9c77-64e3db994c31",
   "metadata": {},
   "outputs": [
    {
     "name": "stdout",
     "output_type": "stream",
     "text": [
      "Strides: (12, 4)\n"
     ]
    }
   ],
   "source": [
    "# 9. Create a function array_strides that takes a NumPy array as input and returns the strides of the array.\n",
    "\n",
    "def array_strides(arr):\n",
    "\n",
    "    if not isinstance(arr, np.ndarray):\n",
    "        raise ValueError(\"Input must be a NumPy array\")\n",
    "\n",
    "    return arr.strides\n",
    "\n",
    "arr = np.array([[1, 2, 3], [4, 5, 6]], dtype = np.int32)\n",
    "strides = array_strides(arr)\n",
    "print(\"Strides:\", strides)"
   ]
  },
  {
   "cell_type": "code",
   "execution_count": 10,
   "id": "8e2897aa-9db9-44dc-bd2e-915ebfed5527",
   "metadata": {},
   "outputs": [
    {
     "name": "stdout",
     "output_type": "stream",
     "text": [
      "Shape: (2, 3)\n",
      "Strides: (12, 4)\n"
     ]
    }
   ],
   "source": [
    "# 10. Design a function shape_stride_relationship that takes a NumPy array as input and returns the shape and strides of the array.\n",
    "\n",
    "def shape_stride_relationship(arr):\n",
    "\n",
    "    if not isinstance(arr, np.ndarray):\n",
    "        raise ValueError(\"Input must be a NumPy array\")\n",
    "\n",
    "    return arr.shape, arr.strides\n",
    "\n",
    "arr = np.array([[1, 2, 3], [4, 5, 6]], dtype=np.int32)\n",
    "shape, strides = shape_stride_relationship(arr)\n",
    "print(\"Shape:\", shape)\n",
    "print(\"Strides:\", strides)"
   ]
  },
  {
   "cell_type": "code",
   "execution_count": 11,
   "id": "d3f84a89-5aa9-4680-93e3-a609d4563b1d",
   "metadata": {},
   "outputs": [
    {
     "name": "stdout",
     "output_type": "stream",
     "text": [
      "Array of zeros: [0. 0. 0. 0. 0.]\n",
      "Shape: (5,)\n"
     ]
    }
   ],
   "source": [
    "# 11. Create a function `create_zeros_array` that takes an integer `n` as input and returns a NumPy array of zeros with `n` elements.\n",
    "\n",
    "def create_zeros_array(n):\n",
    "\n",
    "    if not isinstance(n, int) or n < 0:\n",
    "        raise ValueError(\"Input must be a non-negative integer\")\n",
    "\n",
    "    return np.zeros(n)\n",
    "\n",
    "zeros_array = create_zeros_array(5)\n",
    "print(\"Array of zeros:\", zeros_array)\n",
    "print(\"Shape:\", zeros_array.shape)"
   ]
  },
  {
   "cell_type": "code",
   "execution_count": 12,
   "id": "083d4631-18c3-44be-91c8-7614aae008bd",
   "metadata": {},
   "outputs": [
    {
     "name": "stdout",
     "output_type": "stream",
     "text": [
      "Matrix of ones:\n",
      "[[1. 1. 1. 1.]\n",
      " [1. 1. 1. 1.]\n",
      " [1. 1. 1. 1.]]\n"
     ]
    }
   ],
   "source": [
    "# 12. Write a function `create_ones_matrix` that takes integers `rows` and `cols` as inputs and generates a 2D NumPy array filled with ones of size `rows x cols`.\n",
    "\n",
    "def create_ones_matrix(rows, cols):\n",
    "    \n",
    "     if not (isinstance(rows, int) and isinstance(cols, int)) or rows < 0 or cols < 0:\n",
    "          raise ValueError(\"Rows and columns must be non-negative integers\")\n",
    "    \n",
    "     return np.ones((rows, cols))\n",
    "\n",
    "ones_matrix = create_ones_matrix(3, 4)\n",
    "print(\"Matrix of ones:\")\n",
    "print(ones_matrix)"
   ]
  },
  {
   "cell_type": "code",
   "execution_count": 13,
   "id": "cc635f2c-1d38-405a-af88-b0fe3b4efcb3",
   "metadata": {},
   "outputs": [
    {
     "name": "stdout",
     "output_type": "stream",
     "text": [
      "Generated range array: [1 3 5 7 9]\n"
     ]
    }
   ],
   "source": [
    "# 13. Write a function `generate_range_array` that takes three integers start, stop, and step as arguments and\n",
    "# creates a NumPy array with a range starting from `start`, ending at stop (exclusive), and with the specified `step`.\n",
    "\n",
    "def generate_range_array(start, stop, step):\n",
    "\n",
    "    if not all(isinstance(i, int) for i in [start, stop, step]):\n",
    "        raise ValueError(\"All inputs must be integers\")\n",
    "    if step == 0:\n",
    "        raise valueError(\"Step must be a non-zero integer\")\n",
    "\n",
    "    return np.arange(start, stop, step)\n",
    "\n",
    "range_array = generate_range_array(1, 10, 2)\n",
    "print(\"Generated range array:\", range_array)"
   ]
  },
  {
   "cell_type": "code",
   "execution_count": 14,
   "id": "c7583464-802c-4dba-bac8-2f8f3c6e1757",
   "metadata": {},
   "outputs": [
    {
     "name": "stdout",
     "output_type": "stream",
     "text": [
      "Generated linear space array: [0.   0.25 0.5  0.75 1.  ]\n"
     ]
    }
   ],
   "source": [
    "# 14. Design a function `generate_linear_space` that takes two floats `start`, `stop`, and an integer `num` as\n",
    "# arguments and generates a NumPy array with num equally spaced values between `start` and `stop` (inclusive).\n",
    "\n",
    "def generate_linear_space(start, stop, num):\n",
    "\n",
    "    if not isinstance(num, int) or num <= 0:\n",
    "        raise ValueError(\"num must be a positive integer\")\n",
    "    if not isinstance(start, (int, float)) or not isinstance(stop, (int, float)):\n",
    "        raise ValueError(\"start and stop must be numbers\")\n",
    "\n",
    "    return np.linspace(start, stop, num)\n",
    "\n",
    "linear_space_array = generate_linear_space(0, 1, 5)\n",
    "print(\"Generated linear space array:\", linear_space_array)"
   ]
  },
  {
   "cell_type": "code",
   "execution_count": 15,
   "id": "ff9724e9-6c7e-47b4-af45-ff0babf27d27",
   "metadata": {},
   "outputs": [
    {
     "name": "stdout",
     "output_type": "stream",
     "text": [
      "Identity Matrix: [[1. 0. 0. 0.]\n",
      " [0. 1. 0. 0.]\n",
      " [0. 0. 1. 0.]\n",
      " [0. 0. 0. 1.]]\n"
     ]
    }
   ],
   "source": [
    "# 15. Create a function `create_identity_matrix` that takes an integer `n` as input and generates a square identity matrix of size `n x n` using `numpy.eye`.\n",
    "\n",
    "def create_identity_matrix(n):\n",
    "\n",
    "    if not isinstance(n, int) or n <= 0:\n",
    "        raise ValueError(\"n must be a positive integer\")\n",
    "\n",
    "    return np.eye(n)\n",
    "\n",
    "identity_matrix = create_identity_matrix(4)\n",
    "print(\"Identity Matrix:\", identity_matrix)"
   ]
  },
  {
   "cell_type": "code",
   "execution_count": 16,
   "id": "0e3aa640-9c52-492b-8123-dfa10804f1ba",
   "metadata": {},
   "outputs": [
    {
     "name": "stdout",
     "output_type": "stream",
     "text": [
      "Converted NumPy Array: [1 2 3 4 5]\n"
     ]
    }
   ],
   "source": [
    "# 16. Write a function that takes a Python list and converts it into a NumPy array.\n",
    "\n",
    "def list_to_numpy_array(py_list):\n",
    "\n",
    "    if not isinstance(py_list, list):\n",
    "        raise ValueError(\"Input must be a Python list\")\n",
    "        \n",
    "    return np.array(py_list)\n",
    "\n",
    "py_list = [1, 2, 3, 4, 5]\n",
    "numpy_array = list_to_numpy_array(py_list)\n",
    "print(\"Converted NumPy Array:\", numpy_array)"
   ]
  },
  {
   "cell_type": "code",
   "execution_count": 17,
   "id": "fe7495e4-ba78-4712-b05c-4e54cad18840",
   "metadata": {},
   "outputs": [
    {
     "name": "stdout",
     "output_type": "stream",
     "text": [
      "Original Array: [10  2  3  4  5]\n",
      "View Array: [10  2  3  4  5]\n"
     ]
    }
   ],
   "source": [
    "# 17. Create a NumPy array and demonstrate the use of `numpy.view` to create a new array object with the same data.\n",
    "\n",
    "original_array = np.array([1, 2, 3, 4, 5])\n",
    "\n",
    "view_array = original_array.view()\n",
    "view_array[0] = 10\n",
    "\n",
    "print(\"Original Array:\", original_array)\n",
    "print(\"View Array:\", view_array)"
   ]
  },
  {
   "cell_type": "code",
   "execution_count": 18,
   "id": "0b1ca4e2-8008-42dc-b58a-468b6bf1b00a",
   "metadata": {},
   "outputs": [
    {
     "name": "stdout",
     "output_type": "stream",
     "text": [
      "Concatenated along axis 0: [[1 2]\n",
      " [3 4]\n",
      " [5 6]\n",
      " [7 8]]\n",
      "Concatenated along axis 1: [[1 2 5 6]\n",
      " [3 4 7 8]]\n"
     ]
    }
   ],
   "source": [
    "# 18. Write a function that takes two NumPy arrays and concatenates them along a specified axis\n",
    "\n",
    "def concatenate_arrays(arr1, arr2, axis = 0):\n",
    "\n",
    "    if not isinstance(arr1, np.ndarray) or not isinstance(arr2, np.ndarray):\n",
    "        raise ValueError(\"Both inputs must be NumPy arrays.\")\n",
    "\n",
    "    return np.concatenate((arr1, arr2), axis = axis)\n",
    "\n",
    "arr1 = np.array([[1, 2], [3, 4]])\n",
    "arr2 = np.array([[5, 6], [7, 8]])\n",
    "\n",
    "result_axis0 = concatenate_arrays(arr1, arr2, axis = 0)\n",
    "print(\"Concatenated along axis 0:\", result_axis0)\n",
    "\n",
    "result_axis1 = concatenate_arrays(arr1, arr2, axis = 1)\n",
    "print(\"Concatenated along axis 1:\", result_axis1)"
   ]
  },
  {
   "cell_type": "code",
   "execution_count": 19,
   "id": "3f7d614a-a98a-42fa-9ae8-48ae7269668c",
   "metadata": {},
   "outputs": [
    {
     "name": "stdout",
     "output_type": "stream",
     "text": [
      "Concatenated Array:\n",
      "[[ 1  2  3  7  8]\n",
      " [ 4  5  6  9 10]]\n"
     ]
    }
   ],
   "source": [
    "# 19. Create two NumPy arrays with different shapes and concatenate them horizontally using `numpy. concatenate`.\n",
    "\n",
    "arr1 = np.array([[1, 2, 3], [4, 5, 6]])\n",
    "arr2 = np.array([[7, 8], [9, 10]])\n",
    "\n",
    "concatenated_array = np.concatenate((arr1, arr2), axis = 1)\n",
    "\n",
    "print(\"Concatenated Array:\")\n",
    "print(concatenated_array)"
   ]
  },
  {
   "cell_type": "code",
   "execution_count": 20,
   "id": "a86bcc25-964e-4912-8f7e-53615d503666",
   "metadata": {},
   "outputs": [
    {
     "name": "stdout",
     "output_type": "stream",
     "text": [
      "Vertically Stack Array:\n",
      "[[ 1  2  3]\n",
      " [ 4  5  6]\n",
      " [ 7  8  9]\n",
      " [10 11 12]\n",
      " [13 14 15]\n",
      " [16 17 18]]\n"
     ]
    }
   ],
   "source": [
    "# 20. Write a function that vertically stacks multiple NumPy arrays given as a list.\n",
    "\n",
    "def stack_arrays_vertically(arrays_list):\n",
    "\n",
    "    if not all(isinstance(arr, np.ndarray) for arr in arrays_list):\n",
    "        raise ValueError(\"All elements in the list must be NumPy arrays.\")\n",
    "\n",
    "    return np.vstack(arrays_list)\n",
    "\n",
    "arr1 = np.array([[1, 2, 3], [4, 5, 6]])\n",
    "arr2 = np.array([[7, 8, 9], [10, 11, 12]])\n",
    "arr3 = np.array([[13, 14, 15], [16, 17, 18]])\n",
    "\n",
    "arrays_list = [arr1, arr2, arr3]\n",
    "\n",
    "stacked_array = stack_arrays_vertically(arrays_list)\n",
    "print(\"Vertically Stack Array:\")\n",
    "print(stacked_array)"
   ]
  },
  {
   "cell_type": "code",
   "execution_count": 21,
   "id": "020e31fb-f7cf-4bcd-aef5-be6a52dd93e4",
   "metadata": {},
   "outputs": [
    {
     "name": "stdout",
     "output_type": "stream",
     "text": [
      "Range Array: [1 3 5 7 9]\n"
     ]
    }
   ],
   "source": [
    "# 21. Write a Python function using NumPy to create an array of integers within a specified range (inclusive) with a given step size.\n",
    "\n",
    "def create_range_array(start, stop, step):\n",
    "\n",
    "    if step == 0:\n",
    "        raise ValueError(\"Step size cannot be zero\")\n",
    "\n",
    "    return np.arange(start, stop + 1, step)\n",
    "\n",
    "start = 1\n",
    "stop = 10\n",
    "step = 2\n",
    "\n",
    "range_array = create_range_array(start, stop, step)\n",
    "print(\"Range Array:\", range_array)"
   ]
  },
  {
   "cell_type": "code",
   "execution_count": 22,
   "id": "2976d410-14ea-4d29-8781-d1b93aa18645",
   "metadata": {},
   "outputs": [
    {
     "name": "stdout",
     "output_type": "stream",
     "text": [
      "Equally spaced values: [0.         0.11111111 0.22222222 0.33333333 0.44444444 0.55555556\n",
      " 0.66666667 0.77777778 0.88888889 1.        ]\n"
     ]
    }
   ],
   "source": [
    "# 22. Write a Python function using NumPy to generate an array of 10 equally spaced values between 0 and 1 (inclusive).\n",
    "\n",
    "def generate_linear_space(start, stop, num):\n",
    "\n",
    "     return np.linspace(start, stop, num)\n",
    "\n",
    "start = 0\n",
    "stop = 1\n",
    "num = 10\n",
    "\n",
    "linear_space_array = generate_linear_space(start, stop, num)\n",
    "print(\"Equally spaced values:\", linear_space_array)"
   ]
  },
  {
   "cell_type": "code",
   "execution_count": 23,
   "id": "0d2ea1d8-24ff-4e59-8d0b-349069852a25",
   "metadata": {},
   "outputs": [
    {
     "name": "stdout",
     "output_type": "stream",
     "text": [
      "Logarithmically spaced values: [   1.            5.62341325   31.6227766   177.827941   1000.        ]\n"
     ]
    }
   ],
   "source": [
    "# 23. Write a Python function using NumPy to create an array of 5 logarithmically spaced values between 1 and 1000 (inclusive).\n",
    "\n",
    "def create_log_spaced_array(start, stop, num):\n",
    "\n",
    "    return np.logspace(np.log10(start), np.log10(stop), num)\n",
    "\n",
    "start = 1\n",
    "stop = 1000\n",
    "num = 5\n",
    "\n",
    "log_spaced_array = create_log_spaced_array(start, stop, num)\n",
    "print(\"Logarithmically spaced values:\", log_spaced_array)"
   ]
  },
  {
   "cell_type": "code",
   "execution_count": 24,
   "id": "5777a89c-03fa-4451-8b3e-6a3448899083",
   "metadata": {},
   "outputs": [
    {
     "name": "stdout",
     "output_type": "stream",
     "text": [
      "   Column1  Column2  Column3\n",
      "0       88       96       51\n",
      "1       60       81       85\n",
      "2       36       28       27\n",
      "3       91       92       84\n",
      "4       50       44       46\n"
     ]
    }
   ],
   "source": [
    "# 24. Create a Pandas DataFrame using a NumPy array that contains 5 rows and 3 columns, where the values are random integers between 1 and 100.\n",
    "\n",
    "import pandas as pd\n",
    "\n",
    "def create_random_dataframe():\n",
    "\n",
    "    data = np.random.randint(1, 101, size = (5, 3))\n",
    "\n",
    "    df = pd.DataFrame(data, columns = ['Column1', 'Column2', 'Column3'])\n",
    "    return df\n",
    "\n",
    "random_dataframe = create_random_dataframe()\n",
    "print(random_dataframe)"
   ]
  },
  {
   "cell_type": "code",
   "execution_count": 25,
   "id": "0926f265-10a7-48f7-91d5-66e62eb6d9c9",
   "metadata": {},
   "outputs": [
    {
     "name": "stdout",
     "output_type": "stream",
     "text": [
      "Original DataFrame:\n",
      "   A   B\n",
      "0  1  -6\n",
      "1 -2   7\n",
      "2  3  -8\n",
      "3 -4   9\n",
      "4  5 -10\n",
      "\n",
      "Modified DataFrame:\n",
      "   A   B\n",
      "0  1  -6\n",
      "1  0   7\n",
      "2  3  -8\n",
      "3  0   9\n",
      "4  5 -10\n"
     ]
    }
   ],
   "source": [
    "# 25. Write a function that takes a Pandas DataFrame and replaces all negative values in a specific column with zeros. Use NumPy operations within the Pandas DataFrame.\n",
    "\n",
    "def replace_negative_with_zero(df, column_name):\n",
    "\n",
    "    df[column_name] = np.where(df[column_name] < 0, 0, df[column_name])\n",
    "    return df\n",
    "\n",
    "data = {\n",
    "    'A': [1, -2, 3, -4, 5],\n",
    "    'B': [-6, 7, -8, 9, -10]\n",
    "}\n",
    "df = pd.DataFrame(data)\n",
    "\n",
    "print(\"Original DataFrame:\")\n",
    "print(df)\n",
    "\n",
    "modified_df = replace_negative_with_zero(df, 'A')\n",
    "\n",
    "print(\"\\nModified DataFrame:\")\n",
    "print(modified_df)"
   ]
  },
  {
   "cell_type": "code",
   "execution_count": 26,
   "id": "44a93e5e-4f5a-427d-b30a-42ec0a1bd8f5",
   "metadata": {},
   "outputs": [
    {
     "name": "stdout",
     "output_type": "stream",
     "text": [
      "30\n"
     ]
    }
   ],
   "source": [
    "# 26. Access the 3rd element from the given NumPy array.\n",
    "\n",
    "arr = np.array([10, 20, 30, 40, 50])\n",
    "print(arr[2])"
   ]
  },
  {
   "cell_type": "code",
   "execution_count": 27,
   "id": "2e42e433-8490-45f7-86b1-081fc7f87a75",
   "metadata": {},
   "outputs": [
    {
     "name": "stdout",
     "output_type": "stream",
     "text": [
      "6\n"
     ]
    }
   ],
   "source": [
    "# 27. Retrieve the element at index (1, 2) from the 2D NumPy array.\n",
    "\n",
    "arr_2d = np.array([[1, 2, 3],\n",
    "                   [4, 5, 6],\n",
    "                   [7, 8, 9]])\n",
    "print(arr_2d[1, 2])"
   ]
  },
  {
   "cell_type": "code",
   "execution_count": 28,
   "id": "bb199f8d-ccfe-4131-ba24-7cebaae2b6ac",
   "metadata": {},
   "outputs": [
    {
     "name": "stdout",
     "output_type": "stream",
     "text": [
      "[ 8 10  7]\n"
     ]
    }
   ],
   "source": [
    "# 28. Using boolean indexing, extract elements greater than 5 from the given NumPy array.\n",
    "\n",
    "arr = np.array([3, 8, 2, 10, 5, 7])\n",
    "print(arr[arr > 5])"
   ]
  },
  {
   "cell_type": "code",
   "execution_count": 29,
   "id": "cfe2e607-7902-4166-816f-905d76bf8144",
   "metadata": {},
   "outputs": [
    {
     "name": "stdout",
     "output_type": "stream",
     "text": [
      "[3 4 5 6]\n"
     ]
    }
   ],
   "source": [
    "# 29. Perform basic slicing to extract elements from index 2 to 5 (inclusive) from the given NumPy array.\n",
    "\n",
    "arr = np.array([1, 2, 3, 4, 5, 6, 7, 8, 9])\n",
    "print(arr[2:6])"
   ]
  },
  {
   "cell_type": "code",
   "execution_count": 30,
   "id": "02a60377-f3a3-4c40-ae51-f98c42387568",
   "metadata": {},
   "outputs": [
    {
     "name": "stdout",
     "output_type": "stream",
     "text": [
      "[[2 3]\n",
      " [5 6]]\n"
     ]
    }
   ],
   "source": [
    "# 30. Slice the 2D NumPy array to extract the sub-array `[[2, 3], [5, 6]]` from the given array.\n",
    "\n",
    "arr_2d = np.array([[1, 2, 3],\n",
    "                   [4, 5, 6],\n",
    "                   [7, 8, 9]])\n",
    "\n",
    "print(arr_2d[0:2, 1:3])"
   ]
  },
  {
   "cell_type": "code",
   "execution_count": 31,
   "id": "5924a888-f608-4133-9166-ff76824caa28",
   "metadata": {},
   "outputs": [
    {
     "name": "stdout",
     "output_type": "stream",
     "text": [
      "[2 6 7]\n"
     ]
    }
   ],
   "source": [
    "# 31.Write a NumPy function to extract elements in specific order from a given 2D array based on indices provided in another array.\n",
    "\n",
    "def extract_elements(arr, indices):\n",
    "  \n",
    "    row_indices, col_indices = zip(*indices)\n",
    "    return arr[list(row_indices), list(col_indices)]\n",
    "\n",
    "arr_2d = np.array([[1, 2, 3], [4, 5, 6], [7, 8, 9]])\n",
    "\n",
    "indices = np.array([(0, 1), (1, 2), (2, 0)]) \n",
    "result = extract_elements(arr_2d, indices)\n",
    "print(result)"
   ]
  },
  {
   "cell_type": "code",
   "execution_count": 32,
   "id": "4ea7fdfa-877e-4275-8a34-a0f5333954ba",
   "metadata": {},
   "outputs": [
    {
     "name": "stdout",
     "output_type": "stream",
     "text": [
      "[7 9]\n"
     ]
    }
   ],
   "source": [
    "# 32. Create a NumPy function that filters elements greater than a threshold from a given 1D array using boolean indexing.\n",
    "\n",
    "def filter_greater_than(arr, threshold):\n",
    "\n",
    "    return arr[arr > threshold]\n",
    "\n",
    "arr = np.array([1, 3, 5, 7, 9])\n",
    "\n",
    "threshold = 5\n",
    "result = filter_greater_than(arr, threshold)\n",
    "print(result)"
   ]
  },
  {
   "cell_type": "code",
   "execution_count": 33,
   "id": "b1ab8dbb-1e26-42e9-b5e3-806328800f9a",
   "metadata": {},
   "outputs": [
    {
     "name": "stdout",
     "output_type": "stream",
     "text": [
      "[ 6 17 19]\n"
     ]
    }
   ],
   "source": [
    "# 33. Develop a NumPy function that extracts specific elements from a 3D array using indices provided in three separate arrays for each dimension.\n",
    "\n",
    "def extract_elements_3d(array, row_indices, col_indices, depth_indices):\n",
    "\n",
    "    if not (len(row_indices) == len(col_indices) == len(depth_indices)):\n",
    "        raise ValueError(\"All index arrays must have the same length.\")\n",
    "\n",
    "    return array[row_indices, col_indices, depth_indices]\n",
    "\n",
    "arr_3d = np.array([[[1,  2,  3],\n",
    "                    [4,  5,  6],\n",
    "                    [7,  8,  9]],\n",
    "                   [[10, 11, 12],\n",
    "                    [13, 14, 15],\n",
    "                    [16, 17, 18]],\n",
    "                   [[19, 20, 21],\n",
    "                    [22, 23, 24],\n",
    "                    [25, 26, 27]]])\n",
    "\n",
    "row_indices = np.array([0, 1, 2])  \n",
    "col_indices = np.array([1, 2, 0])  \n",
    "depth_indices = np.array([2, 1, 0]) \n",
    "\n",
    "result = extract_elements_3d(arr_3d, row_indices, col_indices, depth_indices)\n",
    "print(result)"
   ]
  },
  {
   "cell_type": "code",
   "execution_count": 34,
   "id": "cc3bcc65-699c-4cf8-b152-2af02ac2f69e",
   "metadata": {},
   "outputs": [
    {
     "name": "stdout",
     "output_type": "stream",
     "text": [
      "[40 50 60 70]\n"
     ]
    }
   ],
   "source": [
    "# 34. Write a NumPy function that returns elements from an array where both two conditions are satisfied using boolean indexing.\n",
    "\n",
    "def filter_elements(arr, condition1, condition2):\n",
    "\n",
    "    combined_condition = condition1 & condition2\n",
    "    return arr[combined_condition]\n",
    "\n",
    "arr = np.array([10, 20, 30, 40, 50, 60, 70, 80, 90])\n",
    "\n",
    "condition1 = arr > 30\n",
    "condition2 = arr < 80\n",
    "\n",
    "result = filter_elements(arr, condition1, condition2)\n",
    "print(result)"
   ]
  },
  {
   "cell_type": "code",
   "execution_count": 35,
   "id": "331b1d02-c236-4402-b107-7b28b0f63170",
   "metadata": {},
   "outputs": [
    {
     "name": "stdout",
     "output_type": "stream",
     "text": [
      "[2 6 7]\n"
     ]
    }
   ],
   "source": [
    "# 35. Create a NumPy function that extracts elements from a 2D array using row and column indices provided in separate arrays.\n",
    "\n",
    "def extract_elements(arr, row_indices, col_indices):\n",
    "   \n",
    "    return arr[row_indices, col_indices]\n",
    "\n",
    "arr_2d = np.array([[1, 2, 3],\n",
    "                   [4, 5, 6],\n",
    "                   [7, 8, 9]])\n",
    "\n",
    "row_indices = np.array([0, 1, 2])  \n",
    "col_indices = np.array([1, 2, 0]) \n",
    "\n",
    "result = extract_elements(arr_2d, row_indices, col_indices)\n",
    "print(result)"
   ]
  },
  {
   "cell_type": "code",
   "execution_count": 36,
   "id": "e2ad51a5-f051-4fe4-90c1-adb4d27a48a2",
   "metadata": {},
   "outputs": [
    {
     "name": "stdout",
     "output_type": "stream",
     "text": [
      "[[ 6  7  8]\n",
      " [ 9 10 11]\n",
      " [12 13 14]]\n"
     ]
    }
   ],
   "source": [
    "# 36. Given an array arr of shape (3, 3), add a scalar value of 5 to each element using NumPy broadcasting.\n",
    "\n",
    "arr = np.array([[1, 2, 3],\n",
    "                [4, 5, 6],\n",
    "                [7, 8, 9]])\n",
    "\n",
    "result = arr + 5\n",
    "\n",
    "print(result)"
   ]
  },
  {
   "cell_type": "code",
   "execution_count": 37,
   "id": "483e985d-5355-42ca-bbd9-07bdc923c9b2",
   "metadata": {},
   "outputs": [
    {
     "name": "stdout",
     "output_type": "stream",
     "text": [
      "[[ 4  5  6  7]\n",
      " [16 18 20 22]\n",
      " [36 39 42 45]]\n"
     ]
    }
   ],
   "source": [
    "# 37. Consider two arrays arr1 of shape (1, 3) and arr2 of shape (3, 4). Multiply each row of arr2 by the corresponding element in arr1 using NumPy broadcasting.\n",
    "\n",
    "arr1 = np.array([[1, 2, 3]])  \n",
    "arr2 = np.array([[4, 5, 6, 7],  \n",
    "                 [8, 9, 10, 11],\n",
    "                 [12, 13, 14, 15]])\n",
    "\n",
    "arr1_reshaped = arr1.T\n",
    "result = arr2 * arr1_reshaped\n",
    "\n",
    "print(result)"
   ]
  },
  {
   "cell_type": "code",
   "execution_count": 38,
   "id": "92ebe6e1-c61c-411e-8a0a-a7376f69a057",
   "metadata": {},
   "outputs": [
    {
     "name": "stdout",
     "output_type": "stream",
     "text": [
      "[[ 6  7  8]\n",
      " [10 11 12]\n",
      " [14 15 16]\n",
      " [18 19 20]]\n"
     ]
    }
   ],
   "source": [
    "# 38. Given a 1D array arr1 of shape (1, 4) and a 2D array arr2 of shape (4, 3), add arr1 to each row of arr2 using NumPy broadcasting.\n",
    "\n",
    "arr1 = np.array([[1, 2, 3, 4]])  \n",
    "arr2 = np.array([[5, 6, 7],     \n",
    "                 [8, 9, 10],\n",
    "                 [11, 12, 13],\n",
    "                 [14, 15, 16]])\n",
    "\n",
    "arr1_reshaped = arr1.T \n",
    "result = arr2 + arr1_reshaped\n",
    "\n",
    "print(result)\n"
   ]
  },
  {
   "cell_type": "code",
   "execution_count": 39,
   "id": "e952c12a-7a3f-4383-b262-25b107a46b88",
   "metadata": {},
   "outputs": [
    {
     "name": "stdout",
     "output_type": "stream",
     "text": [
      "[[5 6 7]\n",
      " [6 7 8]\n",
      " [7 8 9]]\n"
     ]
    }
   ],
   "source": [
    "# 39. Consider two arrays arr1 of shape (3, 1) and arr2 of shape (1, 3). Add these arrays using NumPy broadcasting.\n",
    "\n",
    "arr1 = np.array([[1], [2], [3]])\n",
    "arr2 = np.array([[4, 5, 6]])\n",
    "\n",
    "print(arr1 + arr2)"
   ]
  },
  {
   "cell_type": "code",
   "execution_count": 40,
   "id": "42c58435-5943-4bc4-b0ee-459db767bab5",
   "metadata": {},
   "outputs": [
    {
     "name": "stdout",
     "output_type": "stream",
     "text": [
      "[[[ 7 14 21]\n",
      "  [32 40 48]]\n",
      "\n",
      " [[ 9 18 27]\n",
      "  [40 50 60]]]\n"
     ]
    }
   ],
   "source": [
    "# 40. Given arrays arr1 of shape (2, 3) and arr2 of shape (2, 2), perform multiplication using NumPy broadcasting. Handle the shape incompatibility.\n",
    "\n",
    "arr1 = np.array([[1, 2, 3],\n",
    "                [4, 5, 6]])\n",
    "arr2 = np.array([[7, 8],\n",
    "                [9, 10]])\n",
    "\n",
    "arr2_reshaped = arr2[:, :, np.newaxis]\n",
    "\n",
    "result = arr1 * arr2_reshaped\n",
    "print(result)"
   ]
  },
  {
   "cell_type": "code",
   "execution_count": 41,
   "id": "28669d04-81ae-4a67-a091-fa3ce814427a",
   "metadata": {},
   "outputs": [
    {
     "name": "stdout",
     "output_type": "stream",
     "text": [
      "[2.5 3.5 4.5]\n"
     ]
    }
   ],
   "source": [
    "# 41. Calculate column wise mean for the given array:\n",
    "\n",
    "arr = np.array([[1, 2, 3], [4, 5, 6]])\n",
    "\n",
    "column_mean = np.mean(arr, axis=0)\n",
    "print(column_mean)"
   ]
  },
  {
   "cell_type": "code",
   "execution_count": 42,
   "id": "6b49a036-61fe-4d45-8ac8-395c17e24980",
   "metadata": {},
   "outputs": [
    {
     "name": "stdout",
     "output_type": "stream",
     "text": [
      "[3 6]\n"
     ]
    }
   ],
   "source": [
    "# 42. Find maximum value in each row of the given array:\n",
    "\n",
    "arr = np.array([[1, 2, 3], [4, 5, 6]])\n",
    "\n",
    "max_values = np.max(arr, axis = 1)\n",
    "print(max_values)"
   ]
  },
  {
   "cell_type": "code",
   "execution_count": 43,
   "id": "159b4ebd-be32-4559-a282-554bc3d55cd4",
   "metadata": {},
   "outputs": [
    {
     "name": "stdout",
     "output_type": "stream",
     "text": [
      "[1 1 1]\n"
     ]
    }
   ],
   "source": [
    "# 43. For the given array, find indices of maximum value in each column.\n",
    "\n",
    "arr = np.array([[1, 2, 3], [4, 5, 6]])\n",
    "\n",
    "indices = np.argmax(arr, axis = 0)\n",
    "print(indices)"
   ]
  },
  {
   "cell_type": "code",
   "execution_count": 44,
   "id": "cf1d1404-c14a-4532-a23a-39882177eefd",
   "metadata": {},
   "outputs": [
    {
     "name": "stdout",
     "output_type": "stream",
     "text": [
      "[[ 3  5]\n",
      " [ 9 11]]\n"
     ]
    }
   ],
   "source": [
    "# 44. For the given array, apply custom function to calculate moving sum along rows.\n",
    "\n",
    "arr = np.array([[1, 2, 3], [4, 5, 6]])\n",
    "\n",
    "def moving_sum(arr, window_size):\n",
    "    result = []\n",
    "    for row in arr:\n",
    "        row_result = []\n",
    "        for i in range(len(row) - window_size + 1):\n",
    "            window_sum = np.sum(row[i:i+window_size])\n",
    "            row_result.append(window_sum)\n",
    "        result.append(row_result)\n",
    "    return np.array(result)\n",
    "\n",
    "arr = np.array([[1, 2, 3], [4, 5, 6]])\n",
    "\n",
    "moving_sum_result = moving_sum(arr, window_size = 2)\n",
    "print(moving_sum_result)"
   ]
  },
  {
   "cell_type": "code",
   "execution_count": 45,
   "id": "70dc9d45-b169-49aa-bcc8-3b63fcd6da68",
   "metadata": {},
   "outputs": [
    {
     "name": "stdout",
     "output_type": "stream",
     "text": [
      "[False False False]\n"
     ]
    }
   ],
   "source": [
    "# 45. In the given array, check if all elements in each column are even.\n",
    "\n",
    "arr = np.array([[2, 4, 6], [3, 5, 7]])\n",
    "\n",
    "all_even = np.all(arr % 2 == 0, axis = 0)\n",
    "print(all_even)"
   ]
  },
  {
   "cell_type": "code",
   "execution_count": 46,
   "id": "c7aadaf1-18bc-450a-af66-ac87655a2996",
   "metadata": {},
   "outputs": [
    {
     "name": "stdout",
     "output_type": "stream",
     "text": [
      "[[1 2 3]\n",
      " [4 5 6]]\n"
     ]
    }
   ],
   "source": [
    "# 46. Given a NumPy array arr, reshape it into a matrix of dimensions `m` rows and `n` columns. Return the reshaped matrix.\n",
    "\n",
    "original_array = np.array([1, 2, 3, 4, 5, 6])\n",
    "\n",
    "reshaped_matrix = original_array.reshape(2, 3)\n",
    "print(reshaped_matrix)"
   ]
  },
  {
   "cell_type": "code",
   "execution_count": 47,
   "id": "2d4152b9-7d76-4bd6-8469-d8e2b1db585a",
   "metadata": {},
   "outputs": [
    {
     "name": "stdout",
     "output_type": "stream",
     "text": [
      "[1 2 3 4 5 6]\n"
     ]
    }
   ],
   "source": [
    "# 47. Create a function that takes a matrix as input and returns the flattened array.\n",
    "\n",
    "input_matrix = np.array([[1, 2, 3], [4, 5, 6]])\n",
    "\n",
    "def flatten_matrix(matrix):\n",
    "    return matrix.flatten()\n",
    "\n",
    "flattened_array = flatten_matrix(input_matrix)\n",
    "print(flattened_array)"
   ]
  },
  {
   "cell_type": "code",
   "execution_count": 48,
   "id": "e207d83d-ab7f-4512-9b57-9978c0f9cf69",
   "metadata": {},
   "outputs": [
    {
     "name": "stdout",
     "output_type": "stream",
     "text": [
      "Concatenated along axis 0:\n",
      "[[1 2]\n",
      " [3 4]\n",
      " [5 6]\n",
      " [7 8]]\n",
      "Concatenated along axis 1:\n",
      "[[1 2 5 6]\n",
      " [3 4 7 8]]\n"
     ]
    }
   ],
   "source": [
    "# 48. Write a function that concatenates two given arrays along a specified axis.\n",
    "\n",
    "array1 = np.array([[1, 2], [3, 4]])\n",
    "array2 = np.array([[5, 6], [7, 8]])\n",
    "\n",
    "def concatenate_arrays(arr1, arr2, axis=0):\n",
    "    \n",
    "    return np.concatenate((arr1, arr2), axis = axis)\n",
    "\n",
    "concatenated_array_axis0 = concatenate_arrays(array1, array2, axis=0)\n",
    "print(\"Concatenated along axis 0:\")\n",
    "print(concatenated_array_axis0)\n",
    "\n",
    "concatenated_array_axis1 = concatenate_arrays(array1, array2, axis=1)\n",
    "print(\"Concatenated along axis 1:\")\n",
    "print(concatenated_array_axis1)"
   ]
  },
  {
   "cell_type": "code",
   "execution_count": 49,
   "id": "d38ff0ee-422b-4ab9-8b42-cac867b3e011",
   "metadata": {},
   "outputs": [
    {
     "name": "stdout",
     "output_type": "stream",
     "text": [
      "Split along axis 0 (rows):\n",
      "[[1 2 3]]\n",
      "[[4 5 6]]\n",
      "[[7 8 9]]\n",
      "\n",
      "Split along axis 1 (columns):\n",
      "[[1]\n",
      " [4]\n",
      " [7]]\n",
      "[[2]\n",
      " [5]\n",
      " [8]]\n",
      "[[3]\n",
      " [6]\n",
      " [9]]\n"
     ]
    }
   ],
   "source": [
    "# 49. Create a function that splits an array into multiple sub-arrays along a specified axis.\n",
    "\n",
    "original_array = np.array([[1, 2, 3], [4, 5, 6], [7, 8, 9]])\n",
    "\n",
    "def split_array(arr, num_splits, axis = 0):\n",
    "\n",
    "    return np.split(arr, num_splits, axis = axis)\n",
    "\n",
    "# Split the array along axis 0 (rows) into 3 sub-arrays\n",
    "split_array_axis0 = split_array(original_array, 3, axis = 0)\n",
    "print(\"Split along axis 0 (rows):\")\n",
    "for sub_array in split_array_axis0:\n",
    "    print(sub_array)\n",
    "\n",
    "# Split the array along axis 1 (columns) into 3 sub-arrays\n",
    "split_array_axis1 = split_array(original_array, 3, axis = 1)\n",
    "print(\"\\nSplit along axis 1 (columns):\")\n",
    "for sub_array in split_array_axis1:\n",
    "    print(sub_array)"
   ]
  },
  {
   "cell_type": "code",
   "execution_count": 50,
   "id": "d8d4c3e3-802f-49a3-b7dc-6e9dd89c6f2a",
   "metadata": {},
   "outputs": [
    {
     "name": "stdout",
     "output_type": "stream",
     "text": [
      "[ 1 10  4 11  5]\n"
     ]
    }
   ],
   "source": [
    "# 50. Write a function that inserts and then deletes elements from a given array at specified indices.\n",
    "\n",
    "original_array = np.array([1, 2, 3, 4, 5])\n",
    "indices_to_insert = [2, 4]\n",
    "values_to_insert = [10, 11]\n",
    "indices_to_delete = [1, 3]\n",
    "\n",
    "def insert_and_delete(arr, indices_to_insert, values_to_insert, indices_to_delete):\n",
    "\n",
    "    arr = np.insert(arr, indices_to_insert, values_to_insert)\n",
    "    arr = np.delete(arr, indices_to_delete)\n",
    "    return arr\n",
    "\n",
    "modified_array = insert_and_delete(original_array, indices_to_insert, values_to_insert, indices_to_delete)\n",
    "print(modified_array)"
   ]
  },
  {
   "cell_type": "code",
   "execution_count": 51,
   "id": "2df82ab3-d1f5-4e5a-84f8-810727f2deb1",
   "metadata": {},
   "outputs": [
    {
     "name": "stdout",
     "output_type": "stream",
     "text": [
      "arr1: [16  7  8  9 11]\n",
      "arr2: [1 2 3 4 5]\n",
      "Result of element-wise addition: [17  9 11 13 16]\n"
     ]
    }
   ],
   "source": [
    "# 51. Create a NumPy array `arr1` with random integers and another array `arr2` with integers from 1 to 10.\n",
    "# Perform element-wise addition between `arr1` and `arr2`.\n",
    "\n",
    "arr1 = np.random.randint(1, 20, size = 5)\n",
    "arr2 = np.arange(1, 11)[:5]\n",
    "result = arr1 + arr2\n",
    "\n",
    "print(\"arr1:\", arr1)\n",
    "print(\"arr2:\", arr2)\n",
    "print(\"Result of element-wise addition:\", result)"
   ]
  },
  {
   "cell_type": "code",
   "execution_count": 52,
   "id": "d6db960d-1cda-439a-b00b-e209bfadd136",
   "metadata": {},
   "outputs": [
    {
     "name": "stdout",
     "output_type": "stream",
     "text": [
      "arr1: [10  9  8  7  6  5  4  3  2  1]\n",
      "arr2 [ 1  2  3  4  5  6  7  8  9 10]\n",
      "Result of element-wise subtraction; [ 9  7  5  3  1 -1 -3 -5 -7 -9]\n"
     ]
    }
   ],
   "source": [
    "# 52. Generate a NumPy array `arr1` with sequential integers from 10 to 1 and another array `arr2` with integers\n",
    "# from 1 to 10. Subtract `arr2` from `arr1` element-wise.\n",
    "\n",
    "arr1 = np.arange(10, 0, -1)\n",
    "arr2 = np.arange(1, 11)\n",
    "result = arr1 - arr2\n",
    "\n",
    "print(\"arr1:\", arr1)\n",
    "print(\"arr2\", arr2)\n",
    "print(\"Result of element-wise subtraction;\", result)"
   ]
  },
  {
   "cell_type": "code",
   "execution_count": 53,
   "id": "ca36d1aa-1170-434a-a0ff-a35b649ec5eb",
   "metadata": {},
   "outputs": [
    {
     "name": "stdout",
     "output_type": "stream",
     "text": [
      "arr1: [13 13 15  4 10]\n",
      "arr2: [1 2 3 4 5]\n",
      "Result of element-wise multiplication: [13 26 45 16 50]\n"
     ]
    }
   ],
   "source": [
    "# 53. Create a NumPy array `arr1` with random integers and another array `arr2` with integers from 1 to 5.\n",
    "# Perform element-wise multiplication between `arr1` and `arr2`.\n",
    "\n",
    "arr1 = np.random.randint(1, 20, size = 5)\n",
    "arr2 = np.arange(1, 6)\n",
    "result = arr1 * arr2\n",
    "\n",
    "print(\"arr1:\", arr1)\n",
    "print(\"arr2:\", arr2)\n",
    "print(\"Result of element-wise multiplication:\", result)"
   ]
  },
  {
   "cell_type": "code",
   "execution_count": 54,
   "id": "6e31225c-483b-42b1-b095-6ef6fb8a65aa",
   "metadata": {},
   "outputs": [
    {
     "name": "stdout",
     "output_type": "stream",
     "text": [
      "arr1: [ 2  4  6  8 10]\n",
      "arr2: [1 2 3 4 5]\n",
      "Result of element-wise division: [2. 2. 2. 2. 2.]\n"
     ]
    }
   ],
   "source": [
    "# 54. Generate a NumPy array `arr1` with even integers from 2 to 10 and another array `arr2` with integers from 1\n",
    "# to 5. Perform element-wise division of `arr1` by `arr2`.\n",
    "\n",
    "arr1 = np.arange(2, 11, 2)\n",
    "arr2 = np.arange(1, 6)\n",
    "result = arr1 / arr2\n",
    "\n",
    "print(\"arr1:\", arr1)\n",
    "print(\"arr2:\", arr2)\n",
    "print(\"Result of element-wise division:\", result)"
   ]
  },
  {
   "cell_type": "code",
   "execution_count": 55,
   "id": "74bdac5b-fc86-4a14-8334-f68262627065",
   "metadata": {},
   "outputs": [
    {
     "name": "stdout",
     "output_type": "stream",
     "text": [
      "arr1: [1 2 3 4 5]\n",
      "arr2: [5 4 3 2 1]\n",
      "Result of element-wise exponentiation: [ 1 16 27 16  5]\n"
     ]
    }
   ],
   "source": [
    "# 55. Create a NumPy array `arr1` with integers from 1 to 5 and another array `arr2` with the same numbers\n",
    "# reversed. Calculate the exponentiation of `arr1` raised to the power of `arr2` element-wise.\n",
    "\n",
    "arr1 = np.arange(1, 6)\n",
    "arr2 = arr1[::-1]\n",
    "result = arr1 ** arr2\n",
    "\n",
    "print(\"arr1:\", arr1)\n",
    "print(\"arr2:\", arr2)\n",
    "print(\"Result of element-wise exponentiation:\", result)"
   ]
  },
  {
   "cell_type": "code",
   "execution_count": 56,
   "id": "c22c9961-84db-4981-a5bc-254721b44aae",
   "metadata": {},
   "outputs": [
    {
     "name": "stdout",
     "output_type": "stream",
     "text": [
      "The substring 'substring' occurs 3 times.\n"
     ]
    }
   ],
   "source": [
    "# 56. Write a function that counts the occurrences of a specific substring within a NumPy array of strings.\n",
    "\n",
    "arr = np.array(['hello', 'world', 'hello', 'numpy', 'hello'])\n",
    "\n",
    "def count_substring(arr, substring):\n",
    "\n",
    "    return np.sum(np.char.find(arr, substring) != -1)\n",
    "\n",
    "substring = 'hello'\n",
    "\n",
    "count = count_substring(arr, substring)\n",
    "print(f\"The substring 'substring' occurs {count} times.\")"
   ]
  },
  {
   "cell_type": "code",
   "execution_count": 57,
   "id": "3bfc6df8-aacc-44a9-a459-5af9e6cde319",
   "metadata": {},
   "outputs": [
    {
     "name": "stdout",
     "output_type": "stream",
     "text": [
      "Uppercase characters: ['H' 'W' 'OAI' 'GPT']\n"
     ]
    }
   ],
   "source": [
    "# 57. Write a function that extracts uppercase characters from a NumPy array of strings.\n",
    "\n",
    "arr = np.array(['Hello', 'World', 'OpenAI', 'GPT'])\n",
    "\n",
    "def extract_uppercase(arr):\n",
    "\n",
    "    return np.array([''.join([char for char in string if char.isupper()]) for string in arr])\n",
    "\n",
    "print(\"Uppercase characters:\", extract_uppercase(arr))"
   ]
  },
  {
   "cell_type": "code",
   "execution_count": 58,
   "id": "123ad878-8731-41a1-bb4a-a65b7443c915",
   "metadata": {},
   "outputs": [
    {
     "name": "stdout",
     "output_type": "stream",
     "text": [
      "Modified array: ['fruit' 'banana' 'grape' 'pinefruit']\n"
     ]
    }
   ],
   "source": [
    "# 58. Write a function that replaces occurrences of a substring in a NumPy array of strings with a new string.\n",
    "\n",
    "arr = np.array(['apple', 'banana', 'grape', 'pineapple'])\n",
    "\n",
    "def replace_substring(arr, old_substring, new_substring):\n",
    "\n",
    "    return np.char.replace(arr, old_substring, new_substring)\n",
    "\n",
    "old_substring = 'apple'\n",
    "new_substring = 'fruit'\n",
    "\n",
    "modified_array = replace_substring(arr, old_substring, new_substring)\n",
    "print(\"Modified array:\", modified_array)"
   ]
  },
  {
   "cell_type": "code",
   "execution_count": 59,
   "id": "7b332cb1-f9a2-4cd5-a8ac-b55044386b79",
   "metadata": {},
   "outputs": [
    {
     "name": "stdout",
     "output_type": "stream",
     "text": [
      "Concatenated array: ['HelloOpen' 'WorldAI']\n"
     ]
    }
   ],
   "source": [
    "# 59. Write a function that concatenates strings in a NumPy array element-wise.\n",
    "\n",
    "arr1 = np.array(['Hello', 'World'])\n",
    "arr2 = np.array(['Open', 'AI'])\n",
    "\n",
    "def concatenate_strings(arr1, arr2):\n",
    "\n",
    "    return np.char.add(arr1, arr2)\n",
    "\n",
    "concatenated_array = concatenate_strings(arr1, arr2)\n",
    "print(\"Concatenated array:\", concatenated_array)"
   ]
  },
  {
   "cell_type": "code",
   "execution_count": 60,
   "id": "ab51afde-594d-476c-97ce-a9c73e1c334a",
   "metadata": {},
   "outputs": [
    {
     "name": "stdout",
     "output_type": "stream",
     "text": [
      "Length of the longest string: 9\n"
     ]
    }
   ],
   "source": [
    "# 60. Write a function that finds the length of the longest string in a NumPy array.\n",
    "\n",
    "arr = np.array(['apple', 'banana', 'grape', 'pineapple'])\n",
    "\n",
    "def longest_string_length(arr):\n",
    "    \n",
    "    lengths = np.char.str_len(arr)\n",
    "    return np.max(lengths)\n",
    "\n",
    "longest_length = longest_string_length(arr)\n",
    "print(\"Length of the longest string:\", longest_length)"
   ]
  },
  {
   "cell_type": "code",
   "execution_count": 61,
   "id": "10b16bc4-8b76-42c1-9edc-7bd47d8392eb",
   "metadata": {},
   "outputs": [
    {
     "name": "stdout",
     "output_type": "stream",
     "text": [
      "Mean: 473.06\n",
      "Median: 431.5\n",
      "Variance: 83582.95640000001\n",
      "Standard Deviation: 289.10717113209074\n"
     ]
    }
   ],
   "source": [
    "# 61. Create a dataset of 100 random integers between 1 and 1000. Compute the mean, median, variance, and\n",
    "# standard deviation of the dataset using NumPy's functions.\n",
    "\n",
    "dataset = np.random.randint(1, 1001, size = 100)\n",
    "\n",
    "mean = np.mean(dataset)\n",
    "median = np.median(dataset)\n",
    "variance = np.var(dataset)\n",
    "std_deviation = np.std(dataset)\n",
    "\n",
    "print(f\"Mean: {mean}\")\n",
    "print(f\"Median: {median}\")\n",
    "print(f\"Variance: {variance}\")\n",
    "print(f\"Standard Deviation: {std_deviation}\")"
   ]
  },
  {
   "cell_type": "code",
   "execution_count": 62,
   "id": "74b92e49-6ec0-4639-ae46-cc6931673fb7",
   "metadata": {},
   "outputs": [
    {
     "name": "stdout",
     "output_type": "stream",
     "text": [
      "25th Percentile: 34.0\n",
      "75th Percentile: 80.0\n"
     ]
    }
   ],
   "source": [
    "# 62. Generate an array of 50 random numbers between 1 and 100. Find the 25th and 75th percentiles of the dataset.\n",
    "\n",
    "dataset = np.random.randint(1, 101, size = 50)\n",
    "\n",
    "percentile_25 = np.percentile(dataset, 25)\n",
    "percentile_75 = np.percentile(dataset, 75)\n",
    "\n",
    "print(f\"25th Percentile: {percentile_25}\")\n",
    "print(f\"75th Percentile: {percentile_75}\")"
   ]
  },
  {
   "cell_type": "code",
   "execution_count": 63,
   "id": "b796f180-374a-4ffc-b8a8-4150ca8a7e1f",
   "metadata": {},
   "outputs": [
    {
     "name": "stdout",
     "output_type": "stream",
     "text": [
      "Correlation coefficient: -0.9999999999999999\n"
     ]
    }
   ],
   "source": [
    "# 63. Create two arrays representing two sets of variables. Compute the correlation coefficient between these arrays using NumPy's `corrcoef` function.\n",
    "\n",
    "array1 = np.array([1, 2, 3, 4, 5])\n",
    "array2 = np.array([5, 4, 3, 2, 1])\n",
    "\n",
    "correlation_matrix = np.corrcoef(array1, array2)\n",
    "correlation_coefficient = correlation_matrix[0, 1]\n",
    "\n",
    "print(f\"Correlation coefficient: {correlation_coefficient}\")"
   ]
  },
  {
   "cell_type": "code",
   "execution_count": 64,
   "id": "ed2e5eee-24a5-48d9-a7a2-678cd2c7bdcb",
   "metadata": {},
   "outputs": [
    {
     "name": "stdout",
     "output_type": "stream",
     "text": [
      "Matrix multiplication result:\n",
      "[[19 22]\n",
      " [43 50]]\n"
     ]
    }
   ],
   "source": [
    "# 64. Create two matrices and perform matrix multiplication using NumPy's `dot` function.\n",
    "\n",
    "matrix1 = np.array([[1, 2], [3, 4]])\n",
    "matrix2 = np.array([[5, 6], [7, 8]])\n",
    "\n",
    "result = np.dot(matrix1, matrix2)\n",
    "\n",
    "print(\"Matrix multiplication result:\")\n",
    "print(result)"
   ]
  },
  {
   "cell_type": "code",
   "execution_count": 65,
   "id": "666f1df3-9e47-40f4-8b8a-d05bfc6a2df7",
   "metadata": {},
   "outputs": [
    {
     "name": "stdout",
     "output_type": "stream",
     "text": [
      "10th Percentile: 80.6\n",
      "50th Percentile (Median): 497.0\n",
      "90th Percentile: 936.8000000000001\n",
      "First Quartile (25th Percentile): 321.0\n",
      "Third Quartile (75th Percentile): 730.5\n"
     ]
    }
   ],
   "source": [
    "# 65. Create an array of 50 integers between 10 and 1000. Calculate the 10th, 50th (median), and 90th percentiles along with the first and third quartiles.\n",
    "\n",
    "array = np.random.randint(10, 1001, size = 50)\n",
    "\n",
    "percentile_10 = np.percentile(array, 10)\n",
    "percentile_50 = np.percentile(array, 50)\n",
    "percentile_90 = np.percentile(array, 90)\n",
    "\n",
    "first_quartile = np.percentile(array, 25)\n",
    "third_quartile = np.percentile(array, 75)\n",
    "\n",
    "print(f\"10th Percentile: {percentile_10}\")\n",
    "print(f\"50th Percentile (Median): {percentile_50}\")\n",
    "print(f\"90th Percentile: {percentile_90}\")\n",
    "print(f\"First Quartile (25th Percentile): {first_quartile}\")\n",
    "print(f\"Third Quartile (75th Percentile): {third_quartile}\")"
   ]
  },
  {
   "cell_type": "code",
   "execution_count": 66,
   "id": "4cb2bdc8-85be-446a-92a5-4dfd864f50d9",
   "metadata": {},
   "outputs": [
    {
     "name": "stdout",
     "output_type": "stream",
     "text": [
      "The index of the element 30 is: 2\n"
     ]
    }
   ],
   "source": [
    "# 66. Create a NumPy array of integers and find the index of a specific element.\n",
    "\n",
    "arr = np.array([10, 20, 30, 40, 50])\n",
    "\n",
    "element = 30\n",
    "index = np.where(arr == element)[0]\n",
    "\n",
    "if index.size > 0:\n",
    "    print(f\"The index of the element {element} is: {index[0]}\")\n",
    "else:\n",
    "    print(f\"The element {element} is not in the array.\")"
   ]
  },
  {
   "cell_type": "code",
   "execution_count": 67,
   "id": "75518ede-c0ba-4dab-b1c2-45142b49a531",
   "metadata": {},
   "outputs": [
    {
     "name": "stdout",
     "output_type": "stream",
     "text": [
      "Original random array: [46 52 69 54 21 54 81 33 41  4]\n",
      "Sorted array: [ 4 21 33 41 46 52 54 54 69 81]\n"
     ]
    }
   ],
   "source": [
    "# 67. Generate a random NumPy array and sort it in ascending order.\n",
    "\n",
    "random_array = np.random.randint(1, 100, size = 10)\n",
    "sorted_array = np.sort(random_array)\n",
    "\n",
    "print(\"Original random array:\", random_array)\n",
    "print(\"Sorted array:\", sorted_array)"
   ]
  },
  {
   "cell_type": "code",
   "execution_count": 68,
   "id": "3c3b30dc-a662-4a84-a53a-0f7484371d71",
   "metadata": {},
   "outputs": [
    {
     "name": "stdout",
     "output_type": "stream",
     "text": [
      "Filtered elements (greater than 20): [25 42 30]\n"
     ]
    }
   ],
   "source": [
    "# 68. Filter elements >20  in the given NumPy array.\n",
    "\n",
    "arr = np.array([12, 25, 6, 42, 8, 30])\n",
    "filtered_elements = arr[arr > 20]\n",
    "\n",
    "print(\"Filtered elements (greater than 20):\", filtered_elements)"
   ]
  },
  {
   "cell_type": "code",
   "execution_count": 69,
   "id": "5dde98b7-0dca-4237-b028-3de7806d3a4b",
   "metadata": {},
   "outputs": [
    {
     "name": "stdout",
     "output_type": "stream",
     "text": [
      "Elements divisible by 3: [12 15]\n"
     ]
    }
   ],
   "source": [
    "# 69. Filter elements which are divisible by 3 from a given NumPy array.\n",
    "\n",
    "arr = np.array([1, 5, 8, 12, 15])\n",
    "divisible_by_3 = arr[arr % 3 == 0]\n",
    "\n",
    "print(\"Elements divisible by 3:\", divisible_by_3)"
   ]
  },
  {
   "cell_type": "code",
   "execution_count": 70,
   "id": "e3da9d5d-44be-408d-970e-82e03e91eb6e",
   "metadata": {},
   "outputs": [
    {
     "name": "stdout",
     "output_type": "stream",
     "text": [
      "Filtered elements (>= 20 and <= 40): [20 30 40]\n"
     ]
    }
   ],
   "source": [
    "# 70. Filter elements which are ≥ 20 and ≤ 40 from a given NumPy array.\n",
    "\n",
    "arr = np.array([10, 20, 30, 40, 50])\n",
    "filtered_elements = arr[(arr >= 20) & (arr <= 40)]\n",
    "\n",
    "print(\"Filtered elements (>= 20 and <= 40):\", filtered_elements)"
   ]
  },
  {
   "cell_type": "code",
   "execution_count": 71,
   "id": "a36cb350-a279-4bbb-ab19-3823cfb047d8",
   "metadata": {},
   "outputs": [
    {
     "name": "stdout",
     "output_type": "stream",
     "text": [
      "The byte order is native to the system.\n",
      "Raw byte order code: =\n"
     ]
    }
   ],
   "source": [
    "# 71. For the given NumPy array, check its byte order using the `dtype` attribute byteorder.\n",
    "\n",
    "arr = np.array([1, 2, 3])\n",
    "\n",
    "byte_order = arr.dtype.byteorder\n",
    "\n",
    "if byte_order == \"=\":\n",
    "    print(\"The byte order is native to the system.\")\n",
    "elif byte_order == \"<\":\n",
    "    print(\"The byte order is little-endian.\")\n",
    "elif byte_order == \">\":\n",
    "    print(\"The byte order is big-endian.\")\n",
    "else:\n",
    "    print(\"Unknown byte order.\")\n",
    "\n",
    "print(f\"Raw byte order code: {byte_order}\")"
   ]
  },
  {
   "cell_type": "code",
   "execution_count": 72,
   "id": "2580242d-478c-44e9-b75b-712ad5ca31de",
   "metadata": {},
   "outputs": [
    {
     "name": "stdout",
     "output_type": "stream",
     "text": [
      "Array after byte swapping: [16777216 33554432 50331648]\n"
     ]
    }
   ],
   "source": [
    "# 72. For the given NumPy array, perform byte swapping in place using `byteswap()`.\n",
    "\n",
    "arr = np.array([1, 2, 3], dtype=np.int32)\n",
    "arr.byteswap(inplace = True)\n",
    "\n",
    "print(\"Array after byte swapping:\", arr)"
   ]
  },
  {
   "cell_type": "code",
   "execution_count": 73,
   "id": "20292c88-67e6-48d7-9a84-8e8dd02bbf2b",
   "metadata": {},
   "outputs": [
    {
     "name": "stdout",
     "output_type": "stream",
     "text": [
      "Swapped byte order array: [16777216 33554432 50331648]\n"
     ]
    }
   ],
   "source": [
    "# 73. For the given NumPy array, swap its byte order without modifying the original array using `newbyteorder()`.\n",
    "\n",
    "arr = np.array([1, 2, 3], dtype=np.int32)\n",
    "swapped_arr = arr.view(arr.dtype.newbyteorder())\n",
    "\n",
    "print(\"Swapped byte order array:\", swapped_arr)"
   ]
  },
  {
   "cell_type": "code",
   "execution_count": 74,
   "id": "5ba0e044-08f6-4a15-a3ed-e51c4d7eb91d",
   "metadata": {},
   "outputs": [
    {
     "name": "stdout",
     "output_type": "stream",
     "text": [
      "Swapped byte order array: [16777216 33554432 50331648]\n"
     ]
    }
   ],
   "source": [
    "# 74. For the given NumPy array and swap its byte order conditionally based on system endianness using `newbyteorder()`.\n",
    "\n",
    "arr = np.array([1, 2, 3], dtype=np.int32)\n",
    "\n",
    "import sys \n",
    "\n",
    "system_endian = sys.byteorder\n",
    "\n",
    "if system_endian == 'little':\n",
    "    swapped_arr = arr.view(arr.dtype.newbyteorder('>'))\n",
    "else:\n",
    "    swapped_arr = arr.view(arr.dtype.newbyteorder('<'))\n",
    "\n",
    "print('Swapped byte order array:', swapped_arr)"
   ]
  },
  {
   "cell_type": "code",
   "execution_count": 75,
   "id": "93750974-e50a-456c-b0a6-90d0c2a7b840",
   "metadata": {},
   "outputs": [
    {
     "name": "stdout",
     "output_type": "stream",
     "text": [
      "The array is in the system's native byte order. No byte swapping needed.\n"
     ]
    }
   ],
   "source": [
    "# 75. For the given NumPy array, check if byte swapping is necessary for the current system using `dtype` attribute `byteorder`.\n",
    "\n",
    "arr = np.array([1, 2, 3], dtype=np.int32)\n",
    "\n",
    "system_endian = sys.byteorder\n",
    "array_endian = arr.dtype.byteorder\n",
    "\n",
    "if array_endian == '=':\n",
    "    print(\"The array is in the system's native byte order. No byte swapping needed.\")\n",
    "elif (array_endian == '<' and system_endian == 'big') or (array_endian == '>' and system_endian == 'little'):\n",
    "    print(\"Byte swapping is necessary.\")\n",
    "else:\n",
    "    print(\"The array is already in the correct byte order for this system.\")"
   ]
  },
  {
   "cell_type": "code",
   "execution_count": 76,
   "id": "8d5cd693-9022-4dc5-8f0a-caf377055fc1",
   "metadata": {},
   "outputs": [
    {
     "name": "stdout",
     "output_type": "stream",
     "text": [
      "arr1: [ 1  2  3  4  5  6  7  8  9 10]\n",
      "copy_arr: [100   2   3   4   5   6   7   8   9  10]\n"
     ]
    }
   ],
   "source": [
    "# 76. Create a NumPy array `arr1` with values from 1 to 10. Create a copy of `arr1` named `copy_arr` and modify\n",
    "# an element in `copy_arr`. Check if modifying `copy_arr` affects `arr1`.\n",
    "\n",
    "arr1 = np.arange(1, 11)\n",
    "copy_arr = arr1.copy()\n",
    "copy_arr[0] = 100\n",
    "\n",
    "print(\"arr1:\", arr1)\n",
    "print(\"copy_arr:\", copy_arr)"
   ]
  },
  {
   "cell_type": "code",
   "execution_count": 77,
   "id": "96923e7e-e771-43ba-8e33-2662c3c3f3de",
   "metadata": {},
   "outputs": [
    {
     "name": "stdout",
     "output_type": "stream",
     "text": [
      "Original matrix:\n",
      "[[ 7  5  4]\n",
      " [ 3 90  7]\n",
      " [ 3  6  8]]\n",
      "\n",
      "Modified view_slice\n",
      "[[90  7]\n",
      " [ 6  8]]\n"
     ]
    }
   ],
   "source": [
    "# 77. Create a 2D NumPy array `matrix` of shape (3, 3) with random integers. Extract a slice `view_slice` from\n",
    "# the matrix. Modify an element in `view_slice` and observe if it changes the original `matrix`.\n",
    "\n",
    "matrix = np.random.randint(1, 10, size=(3, 3))\n",
    "view_slice = matrix[1:, 1:]\n",
    "view_slice[0, 0] = 90\n",
    "\n",
    "print(\"Original matrix:\")\n",
    "print(matrix)\n",
    "print(\"\\nModified view_slice\")\n",
    "print(view_slice)"
   ]
  },
  {
   "cell_type": "code",
   "execution_count": 78,
   "id": "85c513e3-c0a6-4663-b230-1d8cbadbeea7",
   "metadata": {},
   "outputs": [
    {
     "name": "stdout",
     "output_type": "stream",
     "text": [
      "Original array_a:\n",
      "[[ 1  2  3]\n",
      " [ 4 10 11]\n",
      " [ 7 13 14]\n",
      " [10 16 17]]\n",
      "\n",
      "Modified view_b:\n",
      "[[10 11]\n",
      " [13 14]\n",
      " [16 17]]\n"
     ]
    }
   ],
   "source": [
    "# 78. Create a NumPy array `array_a` of shape (4, 3) with sequential integers from 1 to 12. Extract a slice\n",
    "# `view_b` from `array_a` and broadcast the addition of 5 to view_b. Check if it alters the original `array_a`.\n",
    "\n",
    "array_a = np.arange(1, 13).reshape(4, 3)\n",
    "view_b = array_a[1:, 1:]\n",
    "view_b += 5\n",
    "\n",
    "print(\"Original array_a:\")\n",
    "print(array_a)\n",
    "print(\"\\nModified view_b:\")\n",
    "print(view_b)"
   ]
  },
  {
   "cell_type": "code",
   "execution_count": 79,
   "id": "e9a98158-5671-45f7-845c-5be6aca737ee",
   "metadata": {},
   "outputs": [
    {
     "name": "stdout",
     "output_type": "stream",
     "text": [
      "Original array:\n",
      "[[99  2  3  4]\n",
      " [ 5  6  7  8]]\n",
      "\n",
      "Reshaped view:\n",
      "[[99  2]\n",
      " [ 3  4]\n",
      " [ 5  6]\n",
      " [ 7  8]]\n"
     ]
    }
   ],
   "source": [
    "# 79. Create a NumPy array `orig_array` of shape (2, 4) with values from 1 to 8. Create a reshaped view\n",
    "# `reshaped_view` of shape (4, 2) from orig_array. Modify an element in `reshaped_view` and check if it\n",
    "# reflects changes in the original `orig_array`.\n",
    "\n",
    "orig_array = np.arange(1, 9).reshape(2, 4)\n",
    "reshaped_view = orig_array.reshape(4, 2)\n",
    "reshaped_view[0, 0] = 99\n",
    "\n",
    "print(\"Original array:\")\n",
    "print(orig_array)\n",
    "print(\"\\nReshaped view:\")\n",
    "print(reshaped_view)"
   ]
  },
  {
   "cell_type": "code",
   "execution_count": 80,
   "id": "b03638b1-372e-4630-ba6a-875b29576e65",
   "metadata": {},
   "outputs": [
    {
     "name": "stdout",
     "output_type": "stream",
     "text": [
      "Original data:\n",
      "[[5 5 1 3]\n",
      " [6 4 4 3]\n",
      " [4 5 4 5]]\n",
      "\n",
      "Modified data_copy:\n",
      "[90]\n"
     ]
    }
   ],
   "source": [
    "# 80. Create a NumPy array `data` of shape (3, 4) with random integers. Extract a copy `data_copy` of\n",
    "# elements greater than 5. Modify an element in `data_copy` and verify if it affects the original `data\n",
    "\n",
    "data = np.random.randint(1, 10, size=(3, 4))\n",
    "data_copy = data[data > 5].copy()\n",
    "data_copy[0] = 90\n",
    "\n",
    "print('Original data:')\n",
    "print(data)\n",
    "print(\"\\nModified data_copy:\")\n",
    "print(data_copy)"
   ]
  },
  {
   "cell_type": "code",
   "execution_count": 81,
   "id": "d48543d1-5ed0-4c8f-bfb0-4238466988c7",
   "metadata": {},
   "outputs": [
    {
     "name": "stdout",
     "output_type": "stream",
     "text": [
      "Matrix A:\n",
      "[[9 2 8]\n",
      " [9 8 6]\n",
      " [7 5 3]]\n",
      "\n",
      "Matrix B:\n",
      "[[4 6 2]\n",
      " [2 5 8]\n",
      " [9 3 5]]\n",
      "\n",
      "Adddition of A and B:\n",
      "[[13  8 10]\n",
      " [11 13 14]\n",
      " [16  8  8]]\n",
      "\n",
      "Subtraction of A and B:\n",
      "[[ 5 -4  6]\n",
      " [ 7  3 -2]\n",
      " [-2  2 -2]]\n"
     ]
    }
   ],
   "source": [
    "# 81. Create two matrices A and B of identical shape containing integers and perform addition and subtraction operations between them.\n",
    "\n",
    "A = np.random.randint(1, 10, size = (3, 3))\n",
    "B = np.random.randint(1, 10, size = (3, 3))\n",
    "\n",
    "addition_result = A + B\n",
    "subtraction_result = A - B\n",
    "\n",
    "print(\"Matrix A:\")\n",
    "print(A)\n",
    "print(\"\\nMatrix B:\")\n",
    "print(B)\n",
    "\n",
    "print('\\nAdddition of A and B:')\n",
    "print(addition_result)\n",
    "print(\"\\nSubtraction of A and B:\")\n",
    "print(subtraction_result)"
   ]
  },
  {
   "cell_type": "code",
   "execution_count": 82,
   "id": "502cd46b-8e94-4de7-a9c0-809cda8f230b",
   "metadata": {},
   "outputs": [
    {
     "name": "stdout",
     "output_type": "stream",
     "text": [
      "Matrix C (3x2):\n",
      "[[6 7]\n",
      " [7 2]\n",
      " [9 9]]\n",
      "\n",
      "Matrix D (2x4):\n",
      "[[7 3 6 3]\n",
      " [6 1 6 9]]\n",
      "\n",
      "Matrix multiplication result (3x4):\n",
      "[[ 84  25  78  81]\n",
      " [ 61  23  54  39]\n",
      " [117  36 108 108]]\n"
     ]
    }
   ],
   "source": [
    "# 82. Generate two matrices `C` (3x2) and `D` (2x4) and perform matrix multiplication.\n",
    "\n",
    "C = np.random.randint(1, 10, size = (3, 2))\n",
    "D = np.random.randint(1, 10, size = (2, 4))\n",
    "\n",
    "result = C @ D\n",
    "\n",
    "print(\"Matrix C (3x2):\")\n",
    "print(C)\n",
    "print(\"\\nMatrix D (2x4):\")\n",
    "print(D)\n",
    "print(\"\\nMatrix multiplication result (3x4):\")\n",
    "print(result)"
   ]
  },
  {
   "cell_type": "code",
   "execution_count": 83,
   "id": "fbbca12d-396f-4d3e-b62c-dcd8d3825518",
   "metadata": {},
   "outputs": [
    {
     "name": "stdout",
     "output_type": "stream",
     "text": [
      "Matrix E (3x4):\n",
      "[[2 5 8 2]\n",
      " [5 3 1 3]\n",
      " [6 2 7 6]]\n",
      "\n",
      "Transpose of E (4x3):\n",
      "[[2 5 6]\n",
      " [5 3 2]\n",
      " [8 1 7]\n",
      " [2 3 6]]\n"
     ]
    }
   ],
   "source": [
    "# 83. Create a matrix `E` and find its transpose.\n",
    "\n",
    "E = np.random.randint(1, 10, size = (3, 4))\n",
    "E_transpose = E.T\n",
    "\n",
    "print(\"Matrix E (3x4):\")\n",
    "print(E)\n",
    "print(\"\\nTranspose of E (4x3):\")\n",
    "print(E_transpose)"
   ]
  },
  {
   "cell_type": "code",
   "execution_count": 84,
   "id": "d2213f42-3156-40b4-971c-14586b536bf6",
   "metadata": {},
   "outputs": [
    {
     "name": "stdout",
     "output_type": "stream",
     "text": [
      "Matrix F (3x3):\n",
      "[[7 2 4]\n",
      " [2 2 4]\n",
      " [1 8 3]]\n",
      "\n",
      "Determinate of F:\n",
      "-129.99999999999997\n"
     ]
    }
   ],
   "source": [
    "# 84. Generate a square matrix `F` and compute its determinant.\n",
    "\n",
    "F = np.random.randint(1, 10, size = (3, 3))\n",
    "det_F = np.linalg.det(F)\n",
    "\n",
    "print(\"Matrix F (3x3):\")\n",
    "print(F)\n",
    "print(\"\\nDeterminate of F:\")\n",
    "print(det_F)"
   ]
  },
  {
   "cell_type": "code",
   "execution_count": 85,
   "id": "fba2a471-2bb4-4d29-9e3d-6677a668a1f6",
   "metadata": {},
   "outputs": [
    {
     "name": "stdout",
     "output_type": "stream",
     "text": [
      "Matrix G (3x3):\n",
      "[[1 2 9]\n",
      " [8 6 9]\n",
      " [2 9 7]]\n",
      "\n",
      "Inverse of G:\n",
      "[[-0.09176471  0.15764706 -0.08470588]\n",
      " [-0.08941176 -0.02588235  0.14823529]\n",
      " [ 0.14117647 -0.01176471 -0.02352941]]\n"
     ]
    }
   ],
   "source": [
    "# 85. Create a square matrix `G` and find its inverse.\n",
    "\n",
    "G = np.random.randint(1, 10, size = (3, 3))\n",
    "det_G = np.linalg.det(G)\n",
    "\n",
    "if det_G != 0:\n",
    "    G_inverse = np.linalg.inv(G)\n",
    "    print(\"Matrix G (3x3):\")\n",
    "    print(G)\n",
    "\n",
    "    print(\"\\nInverse of G:\")\n",
    "    print(G_inverse)\n",
    "else:\n",
    "    print(\"Matrix G is singular and cannot be inverted.\")"
   ]
  },
  {
   "cell_type": "code",
   "execution_count": null,
   "id": "548fb207-e7f0-400d-b4fd-a080101548d6",
   "metadata": {},
   "outputs": [],
   "source": []
  }
 ],
 "metadata": {
  "kernelspec": {
   "display_name": "Python 3 (ipykernel)",
   "language": "python",
   "name": "python3"
  },
  "language_info": {
   "codemirror_mode": {
    "name": "ipython",
    "version": 3
   },
   "file_extension": ".py",
   "mimetype": "text/x-python",
   "name": "python",
   "nbconvert_exporter": "python",
   "pygments_lexer": "ipython3",
   "version": "3.12.4"
  }
 },
 "nbformat": 4,
 "nbformat_minor": 5
}
